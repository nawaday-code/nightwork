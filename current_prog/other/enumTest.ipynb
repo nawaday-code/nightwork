{
 "cells": [
  {
   "cell_type": "code",
   "execution_count": 5,
   "metadata": {},
   "outputs": [
    {
     "ename": "TypeError",
     "evalue": "unsupported operand type(s) for |: 'str' and 'str'",
     "output_type": "error",
     "traceback": [
      "\u001b[1;31m---------------------------------------------------------------------------\u001b[0m",
      "\u001b[1;31mTypeError\u001b[0m                                 Traceback (most recent call last)",
      "Cell \u001b[1;32mIn[5], line 4\u001b[0m\n\u001b[0;32m      1\u001b[0m \u001b[39mfrom\u001b[39;00m \u001b[39menum\u001b[39;00m \u001b[39mimport\u001b[39;00m Enum\n\u001b[1;32m----> 4\u001b[0m \u001b[39mclass\u001b[39;49;00m \u001b[39mEnumTest\u001b[39;49;00m(Enum):\n\u001b[0;32m      5\u001b[0m     TestA \u001b[39m=\u001b[39;49m \u001b[39m'\u001b[39;49m\u001b[39mtestA\u001b[39;49m\u001b[39m'\u001b[39;49m\n\u001b[0;32m      6\u001b[0m     num \u001b[39m=\u001b[39;49m \u001b[39m'\u001b[39;49m\u001b[39m1\u001b[39;49m\u001b[39m'\u001b[39;49m\n",
      "Cell \u001b[1;32mIn[5], line 7\u001b[0m, in \u001b[0;36mEnumTest\u001b[1;34m()\u001b[0m\n\u001b[0;32m      5\u001b[0m TestA \u001b[39m=\u001b[39m \u001b[39m'\u001b[39m\u001b[39mtestA\u001b[39m\u001b[39m'\u001b[39m\n\u001b[0;32m      6\u001b[0m num \u001b[39m=\u001b[39m \u001b[39m'\u001b[39m\u001b[39m1\u001b[39m\u001b[39m'\u001b[39m\n\u001b[1;32m----> 7\u001b[0m numt \u001b[39m=\u001b[39m TestA \u001b[39m|\u001b[39;49m num\n",
      "\u001b[1;31mTypeError\u001b[0m: unsupported operand type(s) for |: 'str' and 'str'"
     ]
    }
   ],
   "source": [
    "from enum import Enum\n",
    "\n",
    "\n",
    "class EnumTest(Enum):\n",
    "    TestA = 'testA'\n",
    "    num = '1'\n",
    "    numt = TestA | num"
   ]
  },
  {
   "cell_type": "code",
   "execution_count": null,
   "metadata": {},
   "outputs": [
    {
     "ename": "",
     "evalue": "",
     "output_type": "error",
     "traceback": [
      "\u001b[1;31m'env' を使用した実行中のセルには ipykernel パッケージが必要です。\n",
      "\u001b[1;31m次のコマンドを実行して、'ipykernel' を Python 環境にインストールします。\n",
      "\u001b[1;31mコマンド: 'e:/Programming/pyqt/PyQtPractice/env/Scripts/python.exe -m pip install ipykernel -U --force-reinstall'"
     ]
    }
   ],
   "source": [
    "EnumTest.TestA.value"
   ]
  },
  {
   "cell_type": "code",
   "execution_count": null,
   "metadata": {},
   "outputs": [],
   "source": []
  }
 ],
 "metadata": {
  "kernelspec": {
   "display_name": "env",
   "language": "python",
   "name": "python3"
  },
  "language_info": {
   "codemirror_mode": {
    "name": "ipython",
    "version": 3
   },
   "file_extension": ".py",
   "mimetype": "text/x-python",
   "name": "python",
   "nbconvert_exporter": "python",
   "pygments_lexer": "ipython3",
   "version": "3.11.1"
  },
  "orig_nbformat": 4,
  "vscode": {
   "interpreter": {
    "hash": "9b45aaa5e6aa51433154e7183e4dfad7c361f2722ca8f58e0456b3a40d136979"
   }
  }
 },
 "nbformat": 4,
 "nbformat_minor": 2
}
